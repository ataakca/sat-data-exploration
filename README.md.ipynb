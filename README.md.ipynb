{
 "cells": [
  {
   "cell_type": "markdown",
   "metadata": {},
   "source": [
    "# Project 1: SAT & ACT Analysis"
   ]
  },
  {
   "cell_type": "markdown",
   "metadata": {},
   "source": [
    "**Problem statement:** Considering the SAT and ACT scores through 2017 & 2018 with the data provided, a thorough analysis was made to discover which state should receive help to improve SAT participation rates."
   ]
  },
  {
   "cell_type": "markdown",
   "metadata": {},
   "source": [
    "### Executive Summary\n",
    "\n",
    "**Description of data:** SAT and ACT data sets for 2017 and 2018\n",
    "\n",
    "***Size:*** Data from 50 states and DC\n",
    "\n",
    "**Sources:**\n",
    "- [2017 ACT Scores](./data/act_2017.csv)\n",
    "- [2017 SAT Scores](./data/sat_2017.csv)\n",
    "- [2018 ACT Scores](./data/act_2018.csv)\n",
    "- [2018 SAT Scores](./data/sat_2018.csv)\n",
    "\n",
    "***Cleaning Data:*** Incorrect values were fixed and unnecessary data was removed from the data sources. Similar data were merged together for a deeper analysis\n",
    "\n",
    "***Primary Findings:*** SAT participation rates were increased, which is a crucial point on finding and applying the decisions on budgeting through data analysis. \n",
    "\n"
   ]
  },
  {
   "cell_type": "markdown",
   "metadata": {},
   "source": [
    "### Contents:\n",
    "- [2017 Data Import & Cleaning](./code/Project_Analysis/#Data-Import-and-Cleaning)\n",
    "- [2018 Data Import and Cleaning](#2018-Data-Import-and-Cleaning)\n",
    "- [Exploratory Data Analysis](#Exploratory-Data-Analysis)\n",
    "- [Data Visualization](#Visualize-the-data)\n",
    "- [Descriptive and Inferential Statistics](#Descriptive-and-Inferential-Statistics)\n",
    "- [Outside Research](#Outside-Research)\n",
    "- [Conclusions and Recommendations](#Conclusions-and-Recommendations)"
   ]
  },
  {
   "cell_type": "code",
   "execution_count": null,
   "metadata": {},
   "outputs": [],
   "source": []
  }
 ],
 "metadata": {
  "kernelspec": {
   "display_name": "Python 3",
   "language": "python",
   "name": "python3"
  },
  "language_info": {
   "codemirror_mode": {
    "name": "ipython",
    "version": 3
   },
   "file_extension": ".py",
   "mimetype": "text/x-python",
   "name": "python",
   "nbconvert_exporter": "python",
   "pygments_lexer": "ipython3",
   "version": "3.7.4"
  }
 },
 "nbformat": 4,
 "nbformat_minor": 2
}
